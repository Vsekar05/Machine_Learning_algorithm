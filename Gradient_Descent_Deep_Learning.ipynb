{
  "nbformat": 4,
  "nbformat_minor": 0,
  "metadata": {
    "colab": {
      "name": "Gradient_Descent_Deep_Learning.ipynb",
      "provenance": [],
      "collapsed_sections": []
    },
    "kernelspec": {
      "name": "python3",
      "display_name": "Python 3"
    },
    "language_info": {
      "name": "python"
    }
  },
  "cells": [
    {
      "cell_type": "code",
      "execution_count": 1,
      "metadata": {
        "colab": {
          "base_uri": "https://localhost:8080/",
          "height": 363
        },
        "id": "bx2FEgTWbabY",
        "outputId": "4e1ea87b-f8a3-4441-b385-20bff9a56e48"
      },
      "outputs": [
        {
          "output_type": "execute_result",
          "data": {
            "text/html": [
              "\n",
              "  <div id=\"df-1ea7a1db-1883-4111-82fe-2536b450ce49\">\n",
              "    <div class=\"colab-df-container\">\n",
              "      <div>\n",
              "<style scoped>\n",
              "    .dataframe tbody tr th:only-of-type {\n",
              "        vertical-align: middle;\n",
              "    }\n",
              "\n",
              "    .dataframe tbody tr th {\n",
              "        vertical-align: top;\n",
              "    }\n",
              "\n",
              "    .dataframe thead th {\n",
              "        text-align: right;\n",
              "    }\n",
              "</style>\n",
              "<table border=\"1\" class=\"dataframe\">\n",
              "  <thead>\n",
              "    <tr style=\"text-align: right;\">\n",
              "      <th></th>\n",
              "      <th>height</th>\n",
              "      <th>weight</th>\n",
              "    </tr>\n",
              "  </thead>\n",
              "  <tbody>\n",
              "    <tr>\n",
              "      <th>0</th>\n",
              "      <td>167</td>\n",
              "      <td>83.5</td>\n",
              "    </tr>\n",
              "    <tr>\n",
              "      <th>1</th>\n",
              "      <td>145</td>\n",
              "      <td>72.5</td>\n",
              "    </tr>\n",
              "    <tr>\n",
              "      <th>2</th>\n",
              "      <td>170</td>\n",
              "      <td>85.0</td>\n",
              "    </tr>\n",
              "    <tr>\n",
              "      <th>3</th>\n",
              "      <td>180</td>\n",
              "      <td>90.0</td>\n",
              "    </tr>\n",
              "    <tr>\n",
              "      <th>4</th>\n",
              "      <td>189</td>\n",
              "      <td>94.5</td>\n",
              "    </tr>\n",
              "    <tr>\n",
              "      <th>5</th>\n",
              "      <td>155</td>\n",
              "      <td>77.5</td>\n",
              "    </tr>\n",
              "    <tr>\n",
              "      <th>6</th>\n",
              "      <td>163</td>\n",
              "      <td>81.5</td>\n",
              "    </tr>\n",
              "    <tr>\n",
              "      <th>7</th>\n",
              "      <td>178</td>\n",
              "      <td>89.0</td>\n",
              "    </tr>\n",
              "    <tr>\n",
              "      <th>8</th>\n",
              "      <td>173</td>\n",
              "      <td>86.5</td>\n",
              "    </tr>\n",
              "    <tr>\n",
              "      <th>9</th>\n",
              "      <td>176</td>\n",
              "      <td>88.0</td>\n",
              "    </tr>\n",
              "  </tbody>\n",
              "</table>\n",
              "</div>\n",
              "      <button class=\"colab-df-convert\" onclick=\"convertToInteractive('df-1ea7a1db-1883-4111-82fe-2536b450ce49')\"\n",
              "              title=\"Convert this dataframe to an interactive table.\"\n",
              "              style=\"display:none;\">\n",
              "        \n",
              "  <svg xmlns=\"http://www.w3.org/2000/svg\" height=\"24px\"viewBox=\"0 0 24 24\"\n",
              "       width=\"24px\">\n",
              "    <path d=\"M0 0h24v24H0V0z\" fill=\"none\"/>\n",
              "    <path d=\"M18.56 5.44l.94 2.06.94-2.06 2.06-.94-2.06-.94-.94-2.06-.94 2.06-2.06.94zm-11 1L8.5 8.5l.94-2.06 2.06-.94-2.06-.94L8.5 2.5l-.94 2.06-2.06.94zm10 10l.94 2.06.94-2.06 2.06-.94-2.06-.94-.94-2.06-.94 2.06-2.06.94z\"/><path d=\"M17.41 7.96l-1.37-1.37c-.4-.4-.92-.59-1.43-.59-.52 0-1.04.2-1.43.59L10.3 9.45l-7.72 7.72c-.78.78-.78 2.05 0 2.83L4 21.41c.39.39.9.59 1.41.59.51 0 1.02-.2 1.41-.59l7.78-7.78 2.81-2.81c.8-.78.8-2.07 0-2.86zM5.41 20L4 18.59l7.72-7.72 1.47 1.35L5.41 20z\"/>\n",
              "  </svg>\n",
              "      </button>\n",
              "      \n",
              "  <style>\n",
              "    .colab-df-container {\n",
              "      display:flex;\n",
              "      flex-wrap:wrap;\n",
              "      gap: 12px;\n",
              "    }\n",
              "\n",
              "    .colab-df-convert {\n",
              "      background-color: #E8F0FE;\n",
              "      border: none;\n",
              "      border-radius: 50%;\n",
              "      cursor: pointer;\n",
              "      display: none;\n",
              "      fill: #1967D2;\n",
              "      height: 32px;\n",
              "      padding: 0 0 0 0;\n",
              "      width: 32px;\n",
              "    }\n",
              "\n",
              "    .colab-df-convert:hover {\n",
              "      background-color: #E2EBFA;\n",
              "      box-shadow: 0px 1px 2px rgba(60, 64, 67, 0.3), 0px 1px 3px 1px rgba(60, 64, 67, 0.15);\n",
              "      fill: #174EA6;\n",
              "    }\n",
              "\n",
              "    [theme=dark] .colab-df-convert {\n",
              "      background-color: #3B4455;\n",
              "      fill: #D2E3FC;\n",
              "    }\n",
              "\n",
              "    [theme=dark] .colab-df-convert:hover {\n",
              "      background-color: #434B5C;\n",
              "      box-shadow: 0px 1px 3px 1px rgba(0, 0, 0, 0.15);\n",
              "      filter: drop-shadow(0px 1px 2px rgba(0, 0, 0, 0.3));\n",
              "      fill: #FFFFFF;\n",
              "    }\n",
              "  </style>\n",
              "\n",
              "      <script>\n",
              "        const buttonEl =\n",
              "          document.querySelector('#df-1ea7a1db-1883-4111-82fe-2536b450ce49 button.colab-df-convert');\n",
              "        buttonEl.style.display =\n",
              "          google.colab.kernel.accessAllowed ? 'block' : 'none';\n",
              "\n",
              "        async function convertToInteractive(key) {\n",
              "          const element = document.querySelector('#df-1ea7a1db-1883-4111-82fe-2536b450ce49');\n",
              "          const dataTable =\n",
              "            await google.colab.kernel.invokeFunction('convertToInteractive',\n",
              "                                                     [key], {});\n",
              "          if (!dataTable) return;\n",
              "\n",
              "          const docLinkHtml = 'Like what you see? Visit the ' +\n",
              "            '<a target=\"_blank\" href=https://colab.research.google.com/notebooks/data_table.ipynb>data table notebook</a>'\n",
              "            + ' to learn more about interactive tables.';\n",
              "          element.innerHTML = '';\n",
              "          dataTable['output_type'] = 'display_data';\n",
              "          await google.colab.output.renderOutput(dataTable, element);\n",
              "          const docLink = document.createElement('div');\n",
              "          docLink.innerHTML = docLinkHtml;\n",
              "          element.appendChild(docLink);\n",
              "        }\n",
              "      </script>\n",
              "    </div>\n",
              "  </div>\n",
              "  "
            ],
            "text/plain": [
              "   height  weight\n",
              "0     167    83.5\n",
              "1     145    72.5\n",
              "2     170    85.0\n",
              "3     180    90.0\n",
              "4     189    94.5\n",
              "5     155    77.5\n",
              "6     163    81.5\n",
              "7     178    89.0\n",
              "8     173    86.5\n",
              "9     176    88.0"
            ]
          },
          "metadata": {},
          "execution_count": 1
        }
      ],
      "source": [
        "import matplotlib.pyplot as plt\n",
        "import numpy as np\n",
        "import pandas as pd\n",
        "height=[167,145,170,180,189,155,163,178,173,176]\n",
        "weight=[83.5,72.5,85,90,94.5,77.5,81.5,89,86.5,88]\n",
        "data=pd.DataFrame(list(zip(height,weight)),columns=[\"height\",\"weight\"])\n",
        "x=data[\"height\"]\n",
        "y=data[\"weight\"]\n",
        "data"
      ]
    },
    {
      "cell_type": "code",
      "source": [
        "#cost function \n",
        "def single_point_cost(x,y,w):   \n",
        "    y_pred= w * x\n",
        "    cost=( y_pred - y) **2  #linear regression\n",
        "    return cost\n",
        "#calculating derivative of each point\n",
        "#grad function\n",
        "def grad(x,y,w,):\n",
        "    grad_w=2 * x * ((w * x) - y ) # derevative with respect to x\n",
        "    return grad_w"
      ],
      "metadata": {
        "id": "B7li4XKP6o8c"
      },
      "execution_count": 2,
      "outputs": []
    },
    {
      "cell_type": "code",
      "source": [
        "w=0 # here we have  only one parameter\n",
        "gamma=0.000001 #learning rate\n",
        "all_costs=[]\n",
        "for k in range(60):\n",
        "    cost=0\n",
        "    for i in range(len(x)):\n",
        "        a=single_point_cost(x[i],y[i],w)\n",
        "        cost+=a\n",
        "    \n",
        "    cost1=cost/len(x)  #average cost\n",
        "    all_costs.append(cost1)\n",
        "    grad_w=0\n",
        "    for j in range(len(x)):\n",
        "        b=grad(x[j],y[j],w)\n",
        "        grad_w+=b\n",
        "    grad_w1=grad_w/len(x)  #avearge grad\n",
        "    w= w -  (gamma * grad_w1)  # in batch gradient descent update happens only one time"
      ],
      "metadata": {
        "id": "uMrK7vew6t4z"
      },
      "execution_count": 3,
      "outputs": []
    },
    {
      "cell_type": "code",
      "source": [
        "print(\"optimal value w is \",w) #optimal value of w\n",
        "epochs=np.arange(60)\n",
        "plt.plot(epochs,all_costs)"
      ],
      "metadata": {
        "colab": {
          "base_uri": "https://localhost:8080/",
          "height": 302
        },
        "id": "zEEZ5xiF6xTT",
        "outputId": "6dd2b535-da3e-4bc2-df11-34d48caf7933"
      },
      "execution_count": 4,
      "outputs": [
        {
          "output_type": "stream",
          "name": "stdout",
          "text": [
            "optimal value w is  0.48597498598079936\n"
          ]
        },
        {
          "output_type": "execute_result",
          "data": {
            "text/plain": [
              "[<matplotlib.lines.Line2D at 0x7f943efc9c90>]"
            ]
          },
          "metadata": {},
          "execution_count": 4
        },
        {
          "output_type": "display_data",
          "data": {
            "image/png": "[encoded data removed]",
            "text/plain": [
              "<Figure size 432x288 with 1 Axes>"
            ]
          },
          "metadata": {
            "needs_background": "light"
          }
        }
      ]
    },
    {
      "cell_type": "code",
      "source": [
        "all_costs23=[]\n",
        "w=0\n",
        "gamma=0.000001\n",
        "for k in range(60):\n",
        "    for i in range(len(x)):\n",
        "        cost21=single_point_cost(x[i],y[i],w)\n",
        "        grad_w21=grad(x[i],y[i],w)\n",
        "        w= w- (gamma * grad_w21) # in sgd update takes place after every point\n",
        "    all_costs23.append(cost21)\n",
        "\n",
        "print(\"optimal value w is \",w) #optimal value of w\n",
        "plt.xlabel(\"epochs\")\n",
        "plt.ylabel(\"loss\")\n",
        "plt.plot(epochs,all_costs23)"
      ],
      "metadata": {
        "colab": {
          "base_uri": "https://localhost:8080/",
          "height": 315
        },
        "id": "MoPvs0WM60Ok",
        "outputId": "a9b2721f-406e-4154-a0d2-3b9ec2248fcc"
      },
      "execution_count": 5,
      "outputs": [
        {
          "output_type": "stream",
          "name": "stdout",
          "text": [
            "optimal value w is  0.4999999999999996\n"
          ]
        },
        {
          "output_type": "execute_result",
          "data": {
            "text/plain": [
              "[<matplotlib.lines.Line2D at 0x7f943eabba90>]"
            ]
          },
          "metadata": {},
          "execution_count": 5
        },
        {
          "output_type": "display_data",
          "data": {
            "image/png": "[encoded data removed]",
            "text/plain": [
              "<Figure size 432x288 with 1 Axes>"
            ]
          },
          "metadata": {
            "needs_background": "light"
          }
        }
      ]
    },
    {
      "cell_type": "code",
      "source": [
        "# let our batch size = 5\n",
        "#so we will have 2 batches because n=10  and updates will happen 2 times \n",
        "w=0\n",
        "gamma=0.000001\n",
        "batch_size= 5\n",
        "all_costs41=[]\n",
        "for k in range(60):\n",
        "    for j in range(int(len(x)/batch_size)):\n",
        "        cost4=0\n",
        "        for i in range(batch_size):\n",
        "            z1=single_point_cost(x[i],y[i],w)\n",
        "            cost4+=z1\n",
        "        if j==1:\n",
        "            all_costs41.append(cost4/batch_size) #avearge cost of that batch\n",
        "        grad_w41=0\n",
        "        for n in range(batch_size):\n",
        "            f1=grad(x[i],y[i],w)\n",
        "            grad_w41+=f1\n",
        "    \n",
        "        grad_w42=grad_w41/batch_size  #average grad of that function\n",
        "\n",
        "        w= w- (gamma * grad_w42)  # update takes place after every batch\n",
        "\n",
        "print(\"optimal value w is \",w) #optimal value of w\n",
        "plt.xlabel(\"epochs\")\n",
        "plt.ylabel(\"loss\")\n",
        "plt.plot(epochs,all_costs41)"
      ],
      "metadata": {
        "colab": {
          "base_uri": "https://localhost:8080/",
          "height": 315
        },
        "id": "xqfEIZ_X63ME",
        "outputId": "e7678933-c6c7-4448-9b0c-7ec2f6a790dd"
      },
      "execution_count": 6,
      "outputs": [
        {
          "output_type": "stream",
          "name": "stdout",
          "text": [
            "optimal value w is  0.4999314426019738\n"
          ]
        },
        {
          "output_type": "execute_result",
          "data": {
            "text/plain": [
              "[<matplotlib.lines.Line2D at 0x7f943ea39cd0>]"
            ]
          },
          "metadata": {},
          "execution_count": 6
        },
        {
          "output_type": "display_data",
          "data": {
            "image/png": "[encoded data removed]",
            "text/plain": [
              "<Figure size 432x288 with 1 Axes>"
            ]
          },
          "metadata": {
            "needs_background": "light"
          }
        }
      ]
    },
    {
      "cell_type": "code",
      "source": [
        "plt.figure(figsize=(12,8))\n",
        "plt.plot(epochs,all_costs,c='r',label=\"batch gd\")\n",
        "plt.plot(epochs,all_costs23,c='b',label=\"sgd\")\n",
        "plt.plot(epochs,all_costs41,c='g',label=\"mini batch gd\")\n",
        "plt.xlabel(\"epochs\")\n",
        "plt.ylabel(\"final_loss\")\n",
        "plt.legend()\n",
        "plt.show()"
      ],
      "metadata": {
        "colab": {
          "base_uri": "https://localhost:8080/",
          "height": 497
        },
        "id": "hSKcjgR167Vq",
        "outputId": "7825d42b-b1d5-496d-ee41-851606a14580"
      },
      "execution_count": 7,
      "outputs": [
        {
          "output_type": "display_data",
          "data": {
            "image/png": "[encoded data removed]",
            "text/plain": [
              "<Figure size 864x576 with 1 Axes>"
            ]
          },
          "metadata": {
            "needs_background": "light"
          }
        }
      ]
    }
  ]
}